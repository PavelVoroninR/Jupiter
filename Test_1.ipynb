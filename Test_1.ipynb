{
 "cells": [
  {
   "cell_type": "code",
   "execution_count": 1,
   "metadata": {},
   "outputs": [],
   "source": [
    "import pandas as pd\n",
    "import numpy as np"
   ]
  },
  {
   "cell_type": "markdown",
   "metadata": {},
   "source": [
    "###  Задание #1"
   ]
  },
  {
   "cell_type": "markdown",
   "metadata": {},
   "source": [
    "В большинстве случаев от вас потребуется написать функцию для выполнения различных статистических операций. Давайте разберем пример задания:\n",
    "\n",
    "Напишите функцию NA_position, которая получает на вход два числовых вектора одинаковой длины. Функция должна возвращать TRUE, если позиции NA в обоих векторах совпадают или пропущенных значений вообще нет, и значение FALSE, если позиции NA в векторах не совпадают.  "
   ]
  },
  {
   "cell_type": "code",
   "execution_count": 2,
   "metadata": {},
   "outputs": [],
   "source": [
    "test_vec1 = pd.DataFrame([0, 22, 9, 22, 3, np.nan])\n",
    "test_vec2 = pd.DataFrame([0, np.nan, 9, 22, 3, np.nan])"
   ]
  },
  {
   "cell_type": "code",
   "execution_count": 3,
   "metadata": {},
   "outputs": [
    {
     "name": "stdout",
     "output_type": "stream",
     "text": [
      "[[ 0.  0.]\n",
      " [22. nan]\n",
      " [ 9.  9.]\n",
      " [22. 22.]\n",
      " [ 3.  3.]\n",
      " [nan nan]]\n"
     ]
    }
   ],
   "source": [
    "print(np.c_[test_vec1, test_vec2])"
   ]
  },
  {
   "cell_type": "code",
   "execution_count": 4,
   "metadata": {},
   "outputs": [],
   "source": [
    "def NA_position(vec_1, vec_2): # принимаем два вектора\n",
    "    vec_1 = np.array(vec_1) # конвертим в np_array \n",
    "    vec_2 = np.array(vec_2)\n",
    "    if len(vec_1) != len(vec_2): # если длинна вектора А != длинне вектора B\n",
    "        return False # выходим из функции вернув False\n",
    "    for i in range(len(vec_1)): # На протяжении всего первого массива\n",
    "        \"\"\"\n",
    "        если элемент с индексом i в первом массиве есть NAN,\n",
    "        а элемент во втором массиве не nan то результат проверки равен True и происходит вход в тело условия\n",
    "        \"\"\"\n",
    "        if (np.isnan(vec_1[i]) and not np.isnan(vec_2[i]))\\\n",
    "        or (np.isnan(vec_2[i]) and not np.isnan(vec_1[i])): # если элемент с индексом i во втором массиве есть NAN...\n",
    "            return False # ... вернуть False и завершить функцию\n",
    "    return True # если все ок, вернуть True и завершить функцию"
   ]
  },
  {
   "cell_type": "code",
   "execution_count": 5,
   "metadata": {},
   "outputs": [
    {
     "name": "stdout",
     "output_type": "stream",
     "text": [
      "False\n"
     ]
    }
   ],
   "source": [
    "print(NA_position(test_vec1, test_vec2))"
   ]
  },
  {
   "cell_type": "markdown",
   "metadata": {},
   "source": [
    "###  Задание #2"
   ]
  },
  {
   "cell_type": "markdown",
   "metadata": {},
   "source": [
    "Напишите функцию smart_test, которая получает на вход dataframe с двумя номинативными переменными с произвольным числом градаций. Функция должна проверять гипотезу о независимости этих двух переменных при помощи критерия хи - квадрат или точного критерия Фишера.\n",
    "\n",
    "Если хотя бы в одной ячейке таблицы сопряженности двух переменных меньше 5 наблюдений, функция должна рассчитывать точный критерий Фишера и возвращать вектор из одного элемента: получившегося p - уровня значимости.\n",
    "\n",
    "Если наблюдений достаточно для расчета хи-квадрат (во всех ячейках больше либо равно 5 наблюдений), тогда функция должна применять критерий хи-квадрат и возвращать вектор из трех элементов: значение хи-квадрат, число степеней свободы,  p-уровня значимости."
   ]
  },
  {
   "cell_type": "code",
   "execution_count": 6,
   "metadata": {},
   "outputs": [],
   "source": [
    "from scipy import stats\n",
    "import statsmodels.api as sm"
   ]
  },
  {
   "cell_type": "code",
   "execution_count": 18,
   "metadata": {},
   "outputs": [],
   "source": [
    "test = pd.DataFrame([np.random.randint(0,2, size=50),\n",
    "                     np.random.randint(0,2, size=50)]).T\n",
    "test = test.rename(columns={0:'A', 1: 'B'})\n",
    "test = test.replace({0:'Yes', 1: 'No'})"
   ]
  },
  {
   "cell_type": "code",
   "execution_count": 19,
   "metadata": {},
   "outputs": [],
   "source": [
    "def smart_test(arr):\n",
    "    contig_tab = sm.stats.Table.from_data(arr).table\n",
    "    if np.amin(contig_tab) < 5:\n",
    "        test_res = stats.fisher_exact(contig_tab)\n",
    "        return test_res[1]\n",
    "    test_res = stats.chisquare(contig_tab)\n",
    "    return test_res.statistic[0], len(contig_tab[1])-1 ,test_res.pvalue[0]"
   ]
  },
  {
   "cell_type": "code",
   "execution_count": 20,
   "metadata": {},
   "outputs": [
    {
     "data": {
      "text/plain": [
       "(0.9259259259259259, 1, 0.3359238131517329)"
      ]
     },
     "execution_count": 20,
     "metadata": {},
     "output_type": "execute_result"
    }
   ],
   "source": [
    "smart_test(test)"
   ]
  },
  {
   "cell_type": "code",
   "execution_count": null,
   "metadata": {},
   "outputs": [],
   "source": []
  },
  {
   "cell_type": "code",
   "execution_count": null,
   "metadata": {},
   "outputs": [],
   "source": []
  },
  {
   "cell_type": "code",
   "execution_count": null,
   "metadata": {},
   "outputs": [],
   "source": []
  }
 ],
 "metadata": {
  "kernelspec": {
   "display_name": "Python 3",
   "language": "python",
   "name": "python3"
  },
  "language_info": {
   "codemirror_mode": {
    "name": "ipython",
    "version": 3
   },
   "file_extension": ".py",
   "mimetype": "text/x-python",
   "name": "python",
   "nbconvert_exporter": "python",
   "pygments_lexer": "ipython3",
   "version": "3.7.5"
  }
 },
 "nbformat": 4,
 "nbformat_minor": 2
}
