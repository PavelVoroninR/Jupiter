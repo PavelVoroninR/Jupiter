{
 "cells": [
  {
   "cell_type": "code",
   "execution_count": 1,
   "metadata": {},
   "outputs": [],
   "source": [
    "import pandas as pd\n",
    "import numpy as np"
   ]
  },
  {
   "cell_type": "markdown",
   "metadata": {},
   "source": [
    "В большинстве случаев от вас потребуется написать функцию для выполнения различных статистических операций. Давайте разберем пример задания:\n",
    "\n",
    "Напишите функцию NA_position, которая получает на вход два числовых вектора одинаковой длины. Функция должна возвращать TRUE, если позиции NA в обоих векторах совпадают или пропущенных значений вообще нет, и значение FALSE, если позиции NA в векторах не совпадают.  "
   ]
  },
  {
   "cell_type": "code",
   "execution_count": 37,
   "metadata": {},
   "outputs": [],
   "source": [
    "test_vec1 = pd.DataFrame([0, np.nan, 9, 22, 3, np.nan])\n",
    "test_vec2 = pd.DataFrame([0, 22, 9, 22, 3, np.nan])"
   ]
  },
  {
   "cell_type": "code",
   "execution_count": 15,
   "metadata": {},
   "outputs": [
    {
     "name": "stdout",
     "output_type": "stream",
     "text": [
      "[[ 0.  0.]\n",
      " [nan 33.]\n",
      " [ 9.  9.]\n",
      " [22. 22.]\n",
      " [ 3.  3.]\n",
      " [nan nan]]\n"
     ]
    }
   ],
   "source": [
    "print(np.c_[test_vec1, test_vec2])"
   ]
  },
  {
   "cell_type": "code",
   "execution_count": 46,
   "metadata": {},
   "outputs": [],
   "source": [
    "def NA_position(vec_1, vec_2):\n",
    "    vec_1 = np.array(vec_1)\n",
    "    vec_2 = np.array(vec_2)\n",
    "    if len(vec_1) != len(vec_2):\n",
    "        return False\n",
    "    for i in range(len(vec_1)):\n",
    "        print(f\"val {vec_1[i]} in vec_1 is NAN: {np.isnan(vec_1[i])}\")\n",
    "        print(f\"val {vec_1[i]} in vec_1 equal to val {vec_2[i]} in vec_2 : {vec_1[i] == vec_2[i]}\")\n",
    "        if np.isnan(vec_1[i]) and not vec_1[i] == vec_2[i]:\n",
    "            n=1\n",
    "    return True"
   ]
  },
  {
   "cell_type": "code",
   "execution_count": 47,
   "metadata": {},
   "outputs": [
    {
     "name": "stdout",
     "output_type": "stream",
     "text": [
      "val [0.] in vec_1 is NAN: [False]\n",
      "val [0.] in vec_1 equal to val [0.] in vec_2 : [ True]\n",
      "val [nan] in vec_1 is NAN: [ True]\n",
      "val [nan] in vec_1 equal to val [nan] in vec_2 : [False]\n",
      "val [9.] in vec_1 is NAN: [False]\n",
      "val [9.] in vec_1 equal to val [9.] in vec_2 : [ True]\n",
      "val [22.] in vec_1 is NAN: [False]\n",
      "val [22.] in vec_1 equal to val [22.] in vec_2 : [ True]\n",
      "val [3.] in vec_1 is NAN: [False]\n",
      "val [3.] in vec_1 equal to val [3.] in vec_2 : [ True]\n",
      "val [nan] in vec_1 is NAN: [ True]\n",
      "val [nan] in vec_1 equal to val [nan] in vec_2 : [False]\n",
      "True\n"
     ]
    }
   ],
   "source": [
    "print(NA_position(test_vec1, test_vec2))"
   ]
  },
  {
   "cell_type": "code",
   "execution_count": null,
   "metadata": {},
   "outputs": [],
   "source": []
  }
 ],
 "metadata": {
  "kernelspec": {
   "display_name": "Python 3",
   "language": "python",
   "name": "python3"
  },
  "language_info": {
   "codemirror_mode": {
    "name": "ipython",
    "version": 3
   },
   "file_extension": ".py",
   "mimetype": "text/x-python",
   "name": "python",
   "nbconvert_exporter": "python",
   "pygments_lexer": "ipython3",
   "version": "3.7.5"
  }
 },
 "nbformat": 4,
 "nbformat_minor": 2
}
