{
 "cells": [
  {
   "cell_type": "code",
   "execution_count": 1,
   "metadata": {},
   "outputs": [],
   "source": [
    "import pandas as pd\n",
    "import numpy as np"
   ]
  },
  {
   "cell_type": "markdown",
   "metadata": {},
   "source": [
    "В большинстве случаев от вас потребуется написать функцию для выполнения различных статистических операций. Давайте разберем пример задания:\n",
    "\n",
    "Напишите функцию NA_position, которая получает на вход два числовых вектора одинаковой длины. Функция должна возвращать TRUE, если позиции NA в обоих векторах совпадают или пропущенных значений вообще нет, и значение FALSE, если позиции NA в векторах не совпадают.  "
   ]
  },
  {
   "cell_type": "code",
   "execution_count": 62,
   "metadata": {},
   "outputs": [],
   "source": [
    "test_vec1 = pd.DataFrame([0, 22, 9, 22, 3, np.nan])\n",
    "test_vec2 = pd.DataFrame([0, np.nan, 9, 22, 3, np.nan])"
   ]
  },
  {
   "cell_type": "code",
   "execution_count": 15,
   "metadata": {},
   "outputs": [
    {
     "name": "stdout",
     "output_type": "stream",
     "text": [
      "[[ 0.  0.]\n",
      " [nan 33.]\n",
      " [ 9.  9.]\n",
      " [22. 22.]\n",
      " [ 3.  3.]\n",
      " [nan nan]]\n"
     ]
    }
   ],
   "source": [
    "print(np.c_[test_vec1, test_vec2])"
   ]
  },
  {
   "cell_type": "code",
   "execution_count": 66,
   "metadata": {},
   "outputs": [],
   "source": [
    "def NA_position(vec_1, vec_2): # принимаем два вектора\n",
    "    vec_1 = np.array(vec_1) # конвертим в np_array \n",
    "    vec_2 = np.array(vec_2)\n",
    "    if len(vec_1) != len(vec_2): # если длинна вектора А != длинне вектора B\n",
    "        return False # выходим из функции вернув False\n",
    "    for i in range(len(vec_1)): # На протяжении всего первого массива\n",
    "        if (np.isnan(vec_1[i]) and not np.isnan(vec_2[i])) \\ # если элемент с индексом i в первом массиве есть NAN\n",
    "        \\ # а элемент во втором массиве не nan то результат проверки равен True и происходит вход в тело условия \n",
    "        or (np.isnan(vec_2[i]) and not np.isnan(vec_1[i])): # если элемент с индексом i во втором массиве есть NAN...\n",
    "            return False # ... вернуть False и завершить функцию\n",
    "    return True # если все ок, вернуть True и завершить функцию"
   ]
  },
  {
   "cell_type": "code",
   "execution_count": 67,
   "metadata": {},
   "outputs": [
    {
     "name": "stdout",
     "output_type": "stream",
     "text": [
      "val [0.] in vec_1 is NAN: [False]\n",
      "val [0.] in vec_2 is NAN: [False]\n",
      "val [22.] in vec_1 is NAN: [False]\n",
      "val [nan] in vec_2 is NAN: [ True]\n",
      "False\n"
     ]
    }
   ],
   "source": [
    "print(NA_position(test_vec1, test_vec2))"
   ]
  },
  {
   "cell_type": "code",
   "execution_count": null,
   "metadata": {},
   "outputs": [],
   "source": []
  }
 ],
 "metadata": {
  "kernelspec": {
   "display_name": "Python 3",
   "language": "python",
   "name": "python3"
  },
  "language_info": {
   "codemirror_mode": {
    "name": "ipython",
    "version": 3
   },
   "file_extension": ".py",
   "mimetype": "text/x-python",
   "name": "python",
   "nbconvert_exporter": "python",
   "pygments_lexer": "ipython3",
   "version": "3.7.5"
  }
 },
 "nbformat": 4,
 "nbformat_minor": 2
}
