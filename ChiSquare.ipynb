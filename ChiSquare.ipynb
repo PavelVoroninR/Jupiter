{
 "cells": [
  {
   "cell_type": "code",
   "execution_count": 2,
   "metadata": {},
   "outputs": [],
   "source": [
    "from scipy import stats\n",
    "import pandas as pd\n",
    "import numpy as np\n",
    "from matplotlib import pyplot as plt\n",
    "import seaborn as sns\n",
    "import statsmodels.api as sm"
   ]
  },
  {
   "cell_type": "code",
   "execution_count": 3,
   "metadata": {},
   "outputs": [
    {
     "name": "stdout",
     "output_type": "stream",
     "text": [
      "0.6321205588285577\n",
      "0.8646647167633873\n",
      "0.23254415793482963\n"
     ]
    }
   ],
   "source": [
    "a=stats.chi2.cdf(2 , 2)\n",
    "b=stats.chi2.cdf(4 , 2)\n",
    "c=b-a\n",
    "print(a)\n",
    "print(b)\n",
    "print(c)"
   ]
  },
  {
   "cell_type": "markdown",
   "metadata": {},
   "source": [
    "### D6"
   ]
  },
  {
   "cell_type": "code",
   "execution_count": 4,
   "metadata": {},
   "outputs": [],
   "source": [
    "expect = pd.DataFrame([10,10,10,10,10,10])"
   ]
  },
  {
   "cell_type": "code",
   "execution_count": 5,
   "metadata": {},
   "outputs": [],
   "source": [
    "observed = pd.DataFrame([10,10,10,5,10,15])"
   ]
  },
  {
   "cell_type": "code",
   "execution_count": 6,
   "metadata": {},
   "outputs": [
    {
     "data": {
      "text/plain": [
       "Power_divergenceResult(statistic=array([5.]), pvalue=array([0.41588019]))"
      ]
     },
     "execution_count": 6,
     "metadata": {},
     "output_type": "execute_result"
    }
   ],
   "source": [
    "stats.chisquare(f_obs=observed, f_exp=expect)"
   ]
  },
  {
   "cell_type": "markdown",
   "metadata": {},
   "source": [
    "### Political party"
   ]
  },
  {
   "cell_type": "code",
   "execution_count": 10,
   "metadata": {},
   "outputs": [],
   "source": [
    "expect = pd.DataFrame([30, 30, 30])"
   ]
  },
  {
   "cell_type": "code",
   "execution_count": 11,
   "metadata": {},
   "outputs": [],
   "source": [
    "observed = pd.DataFrame([10, 30, 50])"
   ]
  },
  {
   "cell_type": "code",
   "execution_count": 13,
   "metadata": {},
   "outputs": [
    {
     "data": {
      "text/plain": [
       "Power_divergenceResult(statistic=array([26.66666667]), pvalue=array([1.61959679e-06]))"
      ]
     },
     "execution_count": 13,
     "metadata": {},
     "output_type": "execute_result"
    }
   ],
   "source": [
    "stats.chisquare(f_obs=observed, f_exp=expect)"
   ]
  },
  {
   "cell_type": "markdown",
   "metadata": {},
   "source": [
    "### Gender Difference"
   ]
  },
  {
   "cell_type": "code",
   "execution_count": 14,
   "metadata": {},
   "outputs": [],
   "source": [
    "expect = pd.DataFrame([12, 12])"
   ]
  },
  {
   "cell_type": "code",
   "execution_count": 15,
   "metadata": {},
   "outputs": [],
   "source": [
    "observed = pd.DataFrame([15, 9])"
   ]
  },
  {
   "cell_type": "code",
   "execution_count": 17,
   "metadata": {},
   "outputs": [
    {
     "data": {
      "text/plain": [
       "Power_divergenceResult(statistic=array([1.5]), pvalue=array([0.22067136]))"
      ]
     },
     "execution_count": 17,
     "metadata": {},
     "output_type": "execute_result"
    }
   ],
   "source": [
    "stats.chisquare(f_obs=observed, f_exp=expect)"
   ]
  },
  {
   "cell_type": "markdown",
   "metadata": {},
   "source": [
    "### Snowden"
   ]
  },
  {
   "cell_type": "markdown",
   "metadata": {},
   "source": [
    "1500 - group size\n",
    "53% - postive\n",
    "47% - negative"
   ]
  },
  {
   "cell_type": "code",
   "execution_count": 29,
   "metadata": {},
   "outputs": [],
   "source": [
    "group_size = 1500\n",
    "pos = (group_size/100)*53\n",
    "neg = group_size - pos"
   ]
  },
  {
   "cell_type": "code",
   "execution_count": 30,
   "metadata": {},
   "outputs": [],
   "source": [
    "expect = pd.DataFrame([group_size/2, group_size/2])"
   ]
  },
  {
   "cell_type": "code",
   "execution_count": 31,
   "metadata": {},
   "outputs": [],
   "source": [
    "observed = pd.DataFrame([pos, neg])"
   ]
  },
  {
   "cell_type": "code",
   "execution_count": 32,
   "metadata": {},
   "outputs": [
    {
     "data": {
      "text/plain": [
       "Power_divergenceResult(statistic=array([5.4]), pvalue=array([0.02013675]))"
      ]
     },
     "execution_count": 32,
     "metadata": {},
     "output_type": "execute_result"
    }
   ],
   "source": [
    "stats.chisquare(f_obs=observed, f_exp=expect)"
   ]
  },
  {
   "cell_type": "markdown",
   "metadata": {},
   "source": [
    "### Contingency table"
   ]
  },
  {
   "cell_type": "code",
   "execution_count": 26,
   "metadata": {},
   "outputs": [],
   "source": [
    "observed = pd.DataFrame([[10, 6], [5, 15]])"
   ]
  },
  {
   "cell_type": "code",
   "execution_count": 27,
   "metadata": {},
   "outputs": [
    {
     "data": {
      "text/plain": [
       "(3.715714285714286, 0.053902557169387154, 1, array([[ 6.66666667,  9.33333333],\n",
       "        [ 8.33333333, 11.66666667]]))"
      ]
     },
     "execution_count": 27,
     "metadata": {},
     "output_type": "execute_result"
    }
   ],
   "source": [
    "stats.chi2_contingency(observed)"
   ]
  },
  {
   "cell_type": "markdown",
   "metadata": {},
   "source": [
    "### Gender Difference Pt.2"
   ]
  },
  {
   "cell_type": "code",
   "execution_count": null,
   "metadata": {},
   "outputs": [],
   "source": [
    "man_tot = 26\n",
    "wom_tot = 15\n",
    "bio_tot = 24\n",
    "inf_tot = 17\n",
    "man_proc = (man_tot/(man_tot+wom_tot)) * 100\n",
    "wom_proc = 100 - man_proc\n",
    "freq_man_bio = bio_tot/100 * man_proc\n",
    "print(f\"man_proc: {man_proc}\")\n",
    "print(f\"wom_proc: {wom_proc}\")\n",
    "print(f\"freq_man_bio: {freq_man_bio}\")\n",
    "\n",
    "freq_wom_bio = bio_tot - freq_man_bio\n",
    "\n",
    "print(f\"freq_wom_bio: {freq_wom_bio}\")\n",
    "\n",
    "freq_man_inf = inf_tot/100 * man_proc\n",
    "\n",
    "print(f\"freq_man_inf: {freq_man_inf}\")\n",
    "\n",
    "freq_wom_inf = inf_tot - freq_man_inf\n",
    "\n",
    "print(f\"freq_wom_inf: {freq_wom_inf}\")\n",
    "\n",
    " \n",
    "\n",
    "observed = pd.DataFrame([[15, 9], [11, 6]])\n",
    "\n",
    "observed\n",
    "\n",
    " \n",
    "\n",
    "expect = pd.DataFrame([[freq_man_bio, freq_wom_bio], [freq_man_inf, freq_wom_inf]])\n",
    "\n",
    "expect\n",
    "\n",
    " \n",
    "\n",
    "pd.DataFrame(stats.contingency.expected_freq(observed))\n",
    "\n",
    " \n",
    "\n",
    "stats.chi2_contingency(observed=observed)\n",
    "\n",
    " \n",
    "\n",
    "### Breaks\n",
    "\n",
    "breaks =  pd.DataFrame([[20, 15], [11, 12], [7, 9]])\n",
    "\n",
    "stats.chi2_contingency(observed=breaks, correction=True)\n",
    "\n",
    "###  Aspirine\n",
    "\n",
    "pills = pd.DataFrame([[18, 7], [6, 13]])\n",
    "\n",
    "stats.chi2_contingency(observed=pills, correction=True)"
   ]
  }
 ],
 "metadata": {
  "kernelspec": {
   "display_name": "Python 3",
   "language": "python",
   "name": "python3"
  },
  "language_info": {
   "codemirror_mode": {
    "name": "ipython",
    "version": 3
   },
   "file_extension": ".py",
   "mimetype": "text/x-python",
   "name": "python",
   "nbconvert_exporter": "python",
   "pygments_lexer": "ipython3",
   "version": "3.7.5"
  }
 },
 "nbformat": 4,
 "nbformat_minor": 2
}
