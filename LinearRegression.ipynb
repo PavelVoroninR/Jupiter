{
 "cells": [
  {
   "cell_type": "code",
   "execution_count": 1,
   "metadata": {},
   "outputs": [],
   "source": [
    "import pandas as pd\n",
    "import numpy as np\n",
    "import matplotlib.pyplot as plt\n",
    "import seaborn as sns; sns.set()\n",
    "\n",
    "import statsmodels.api as sm\n",
    "from statsmodels.formula.api import ols\n",
    "from statsmodels.stats.anova import anova_lm\n",
    "from statsmodels.stats.multicomp import pairwise_tukeyhsd\n",
    "from statsmodels.stats.multicomp import MultiComparison\n",
    "from statsmodels.graphics.factorplots import interaction_plot\n",
    "\n",
    "from scipy import stats\n",
    "\n",
    "from sklearn.linear_model import LinearRegression"
   ]
  },
  {
   "cell_type": "code",
   "execution_count": 2,
   "metadata": {},
   "outputs": [],
   "source": [
    "df = pd.read_csv('https://stepik.org/media/attachments/lesson/8086/states.csv')"
   ]
  },
  {
   "cell_type": "code",
   "execution_count": 3,
   "metadata": {},
   "outputs": [
    {
     "data": {
      "text/html": [
       "<div>\n",
       "<style scoped>\n",
       "    .dataframe tbody tr th:only-of-type {\n",
       "        vertical-align: middle;\n",
       "    }\n",
       "\n",
       "    .dataframe tbody tr th {\n",
       "        vertical-align: top;\n",
       "    }\n",
       "\n",
       "    .dataframe thead th {\n",
       "        text-align: right;\n",
       "    }\n",
       "</style>\n",
       "<table border=\"1\" class=\"dataframe\">\n",
       "  <thead>\n",
       "    <tr style=\"text-align: right;\">\n",
       "      <th></th>\n",
       "      <th>state</th>\n",
       "      <th>metro_res</th>\n",
       "      <th>white</th>\n",
       "      <th>hs_grad</th>\n",
       "      <th>poverty</th>\n",
       "      <th>female_house</th>\n",
       "    </tr>\n",
       "  </thead>\n",
       "  <tbody>\n",
       "    <tr>\n",
       "      <th>0</th>\n",
       "      <td>Alabama</td>\n",
       "      <td>55.4</td>\n",
       "      <td>71.3</td>\n",
       "      <td>79.9</td>\n",
       "      <td>14.6</td>\n",
       "      <td>14.2</td>\n",
       "    </tr>\n",
       "    <tr>\n",
       "      <th>1</th>\n",
       "      <td>Alaska</td>\n",
       "      <td>65.6</td>\n",
       "      <td>70.8</td>\n",
       "      <td>90.6</td>\n",
       "      <td>8.3</td>\n",
       "      <td>10.8</td>\n",
       "    </tr>\n",
       "    <tr>\n",
       "      <th>2</th>\n",
       "      <td>Arizona</td>\n",
       "      <td>88.2</td>\n",
       "      <td>87.7</td>\n",
       "      <td>83.8</td>\n",
       "      <td>13.3</td>\n",
       "      <td>11.1</td>\n",
       "    </tr>\n",
       "    <tr>\n",
       "      <th>3</th>\n",
       "      <td>Arkansas</td>\n",
       "      <td>52.5</td>\n",
       "      <td>81.0</td>\n",
       "      <td>80.9</td>\n",
       "      <td>18.0</td>\n",
       "      <td>12.1</td>\n",
       "    </tr>\n",
       "    <tr>\n",
       "      <th>4</th>\n",
       "      <td>California</td>\n",
       "      <td>94.4</td>\n",
       "      <td>77.5</td>\n",
       "      <td>81.1</td>\n",
       "      <td>12.8</td>\n",
       "      <td>12.6</td>\n",
       "    </tr>\n",
       "    <tr>\n",
       "      <th>5</th>\n",
       "      <td>Colorado</td>\n",
       "      <td>84.5</td>\n",
       "      <td>90.2</td>\n",
       "      <td>88.7</td>\n",
       "      <td>9.4</td>\n",
       "      <td>9.6</td>\n",
       "    </tr>\n",
       "    <tr>\n",
       "      <th>6</th>\n",
       "      <td>Connecticut</td>\n",
       "      <td>87.7</td>\n",
       "      <td>85.4</td>\n",
       "      <td>87.5</td>\n",
       "      <td>7.8</td>\n",
       "      <td>12.1</td>\n",
       "    </tr>\n",
       "    <tr>\n",
       "      <th>7</th>\n",
       "      <td>Delaware</td>\n",
       "      <td>80.1</td>\n",
       "      <td>76.3</td>\n",
       "      <td>88.7</td>\n",
       "      <td>8.1</td>\n",
       "      <td>13.1</td>\n",
       "    </tr>\n",
       "    <tr>\n",
       "      <th>8</th>\n",
       "      <td>District  of Columbia</td>\n",
       "      <td>100.0</td>\n",
       "      <td>36.2</td>\n",
       "      <td>86.0</td>\n",
       "      <td>16.8</td>\n",
       "      <td>18.9</td>\n",
       "    </tr>\n",
       "    <tr>\n",
       "      <th>9</th>\n",
       "      <td>Florida</td>\n",
       "      <td>89.3</td>\n",
       "      <td>80.6</td>\n",
       "      <td>84.7</td>\n",
       "      <td>12.1</td>\n",
       "      <td>12.0</td>\n",
       "    </tr>\n",
       "    <tr>\n",
       "      <th>10</th>\n",
       "      <td>Georgia</td>\n",
       "      <td>71.6</td>\n",
       "      <td>67.5</td>\n",
       "      <td>85.1</td>\n",
       "      <td>12.1</td>\n",
       "      <td>14.5</td>\n",
       "    </tr>\n",
       "    <tr>\n",
       "      <th>11</th>\n",
       "      <td>Hawaii</td>\n",
       "      <td>91.5</td>\n",
       "      <td>25.9</td>\n",
       "      <td>88.5</td>\n",
       "      <td>10.6</td>\n",
       "      <td>12.4</td>\n",
       "    </tr>\n",
       "    <tr>\n",
       "      <th>12</th>\n",
       "      <td>Idaho</td>\n",
       "      <td>66.4</td>\n",
       "      <td>95.5</td>\n",
       "      <td>88.2</td>\n",
       "      <td>11.8</td>\n",
       "      <td>8.7</td>\n",
       "    </tr>\n",
       "    <tr>\n",
       "      <th>13</th>\n",
       "      <td>Illinois</td>\n",
       "      <td>87.8</td>\n",
       "      <td>79.5</td>\n",
       "      <td>85.9</td>\n",
       "      <td>11.2</td>\n",
       "      <td>12.3</td>\n",
       "    </tr>\n",
       "    <tr>\n",
       "      <th>14</th>\n",
       "      <td>Indiana</td>\n",
       "      <td>70.8</td>\n",
       "      <td>88.9</td>\n",
       "      <td>86.4</td>\n",
       "      <td>8.7</td>\n",
       "      <td>11.1</td>\n",
       "    </tr>\n",
       "    <tr>\n",
       "      <th>15</th>\n",
       "      <td>Iowa</td>\n",
       "      <td>61.1</td>\n",
       "      <td>94.9</td>\n",
       "      <td>89.7</td>\n",
       "      <td>8.3</td>\n",
       "      <td>8.6</td>\n",
       "    </tr>\n",
       "    <tr>\n",
       "      <th>16</th>\n",
       "      <td>Kansas</td>\n",
       "      <td>71.4</td>\n",
       "      <td>89.3</td>\n",
       "      <td>88.6</td>\n",
       "      <td>9.4</td>\n",
       "      <td>9.3</td>\n",
       "    </tr>\n",
       "    <tr>\n",
       "      <th>17</th>\n",
       "      <td>Kentucky</td>\n",
       "      <td>55.8</td>\n",
       "      <td>90.3</td>\n",
       "      <td>82.8</td>\n",
       "      <td>13.1</td>\n",
       "      <td>11.8</td>\n",
       "    </tr>\n",
       "    <tr>\n",
       "      <th>18</th>\n",
       "      <td>Louisiana</td>\n",
       "      <td>72.6</td>\n",
       "      <td>64.2</td>\n",
       "      <td>79.8</td>\n",
       "      <td>17.0</td>\n",
       "      <td>16.6</td>\n",
       "    </tr>\n",
       "    <tr>\n",
       "      <th>19</th>\n",
       "      <td>Maine</td>\n",
       "      <td>40.2</td>\n",
       "      <td>97.1</td>\n",
       "      <td>86.6</td>\n",
       "      <td>11.3</td>\n",
       "      <td>9.5</td>\n",
       "    </tr>\n",
       "    <tr>\n",
       "      <th>20</th>\n",
       "      <td>Maryland</td>\n",
       "      <td>86.1</td>\n",
       "      <td>65.6</td>\n",
       "      <td>87.6</td>\n",
       "      <td>7.3</td>\n",
       "      <td>14.1</td>\n",
       "    </tr>\n",
       "    <tr>\n",
       "      <th>21</th>\n",
       "      <td>Massachusetts</td>\n",
       "      <td>91.4</td>\n",
       "      <td>87.2</td>\n",
       "      <td>87.1</td>\n",
       "      <td>9.6</td>\n",
       "      <td>11.9</td>\n",
       "    </tr>\n",
       "    <tr>\n",
       "      <th>22</th>\n",
       "      <td>Michigan</td>\n",
       "      <td>74.7</td>\n",
       "      <td>81.5</td>\n",
       "      <td>87.6</td>\n",
       "      <td>10.3</td>\n",
       "      <td>12.5</td>\n",
       "    </tr>\n",
       "    <tr>\n",
       "      <th>23</th>\n",
       "      <td>Minnesota</td>\n",
       "      <td>70.9</td>\n",
       "      <td>90.2</td>\n",
       "      <td>91.6</td>\n",
       "      <td>6.5</td>\n",
       "      <td>8.9</td>\n",
       "    </tr>\n",
       "    <tr>\n",
       "      <th>24</th>\n",
       "      <td>Mississippi</td>\n",
       "      <td>48.8</td>\n",
       "      <td>61.2</td>\n",
       "      <td>81.2</td>\n",
       "      <td>17.6</td>\n",
       "      <td>17.3</td>\n",
       "    </tr>\n",
       "    <tr>\n",
       "      <th>25</th>\n",
       "      <td>Missouri</td>\n",
       "      <td>69.4</td>\n",
       "      <td>85.3</td>\n",
       "      <td>88.3</td>\n",
       "      <td>9.6</td>\n",
       "      <td>11.6</td>\n",
       "    </tr>\n",
       "    <tr>\n",
       "      <th>26</th>\n",
       "      <td>Montana</td>\n",
       "      <td>54.1</td>\n",
       "      <td>90.9</td>\n",
       "      <td>90.1</td>\n",
       "      <td>13.7</td>\n",
       "      <td>8.9</td>\n",
       "    </tr>\n",
       "    <tr>\n",
       "      <th>27</th>\n",
       "      <td>Nebraska</td>\n",
       "      <td>69.8</td>\n",
       "      <td>92.1</td>\n",
       "      <td>90.8</td>\n",
       "      <td>9.5</td>\n",
       "      <td>9.1</td>\n",
       "    </tr>\n",
       "    <tr>\n",
       "      <th>28</th>\n",
       "      <td>Nevada</td>\n",
       "      <td>91.5</td>\n",
       "      <td>84.1</td>\n",
       "      <td>85.6</td>\n",
       "      <td>8.3</td>\n",
       "      <td>11.1</td>\n",
       "    </tr>\n",
       "    <tr>\n",
       "      <th>29</th>\n",
       "      <td>New  Hampshire</td>\n",
       "      <td>59.3</td>\n",
       "      <td>96.3</td>\n",
       "      <td>92.1</td>\n",
       "      <td>5.6</td>\n",
       "      <td>9.1</td>\n",
       "    </tr>\n",
       "    <tr>\n",
       "      <th>30</th>\n",
       "      <td>New Jersey</td>\n",
       "      <td>94.4</td>\n",
       "      <td>77.3</td>\n",
       "      <td>86.2</td>\n",
       "      <td>7.8</td>\n",
       "      <td>12.6</td>\n",
       "    </tr>\n",
       "    <tr>\n",
       "      <th>31</th>\n",
       "      <td>New Mexico</td>\n",
       "      <td>75.0</td>\n",
       "      <td>84.9</td>\n",
       "      <td>81.7</td>\n",
       "      <td>17.8</td>\n",
       "      <td>13.2</td>\n",
       "    </tr>\n",
       "    <tr>\n",
       "      <th>32</th>\n",
       "      <td>New York</td>\n",
       "      <td>87.5</td>\n",
       "      <td>73.6</td>\n",
       "      <td>84.2</td>\n",
       "      <td>14.0</td>\n",
       "      <td>14.7</td>\n",
       "    </tr>\n",
       "    <tr>\n",
       "      <th>33</th>\n",
       "      <td>North  Carolina</td>\n",
       "      <td>60.2</td>\n",
       "      <td>74.1</td>\n",
       "      <td>81.4</td>\n",
       "      <td>13.1</td>\n",
       "      <td>12.5</td>\n",
       "    </tr>\n",
       "    <tr>\n",
       "      <th>34</th>\n",
       "      <td>North Dakota</td>\n",
       "      <td>55.9</td>\n",
       "      <td>92.5</td>\n",
       "      <td>89.7</td>\n",
       "      <td>11.9</td>\n",
       "      <td>7.8</td>\n",
       "    </tr>\n",
       "    <tr>\n",
       "      <th>35</th>\n",
       "      <td>Ohio</td>\n",
       "      <td>77.4</td>\n",
       "      <td>85.4</td>\n",
       "      <td>87.2</td>\n",
       "      <td>10.1</td>\n",
       "      <td>12.1</td>\n",
       "    </tr>\n",
       "    <tr>\n",
       "      <th>36</th>\n",
       "      <td>Oklahoma</td>\n",
       "      <td>65.3</td>\n",
       "      <td>78.4</td>\n",
       "      <td>85.7</td>\n",
       "      <td>14.7</td>\n",
       "      <td>11.4</td>\n",
       "    </tr>\n",
       "    <tr>\n",
       "      <th>37</th>\n",
       "      <td>Oregon</td>\n",
       "      <td>78.7</td>\n",
       "      <td>90.8</td>\n",
       "      <td>86.9</td>\n",
       "      <td>11.2</td>\n",
       "      <td>9.8</td>\n",
       "    </tr>\n",
       "    <tr>\n",
       "      <th>38</th>\n",
       "      <td>Pennsylvania</td>\n",
       "      <td>77.1</td>\n",
       "      <td>86.4</td>\n",
       "      <td>86.0</td>\n",
       "      <td>9.2</td>\n",
       "      <td>11.6</td>\n",
       "    </tr>\n",
       "    <tr>\n",
       "      <th>39</th>\n",
       "      <td>Rhode Island</td>\n",
       "      <td>90.9</td>\n",
       "      <td>89.2</td>\n",
       "      <td>81.0</td>\n",
       "      <td>10.3</td>\n",
       "      <td>12.9</td>\n",
       "    </tr>\n",
       "    <tr>\n",
       "      <th>40</th>\n",
       "      <td>South  Carolina</td>\n",
       "      <td>60.5</td>\n",
       "      <td>67.7</td>\n",
       "      <td>80.8</td>\n",
       "      <td>13.5</td>\n",
       "      <td>14.8</td>\n",
       "    </tr>\n",
       "    <tr>\n",
       "      <th>41</th>\n",
       "      <td>South Dakota</td>\n",
       "      <td>51.9</td>\n",
       "      <td>88.8</td>\n",
       "      <td>88.7</td>\n",
       "      <td>10.2</td>\n",
       "      <td>9.0</td>\n",
       "    </tr>\n",
       "    <tr>\n",
       "      <th>42</th>\n",
       "      <td>Tennessee</td>\n",
       "      <td>63.6</td>\n",
       "      <td>80.8</td>\n",
       "      <td>81.0</td>\n",
       "      <td>14.2</td>\n",
       "      <td>12.9</td>\n",
       "    </tr>\n",
       "    <tr>\n",
       "      <th>43</th>\n",
       "      <td>Texas</td>\n",
       "      <td>82.5</td>\n",
       "      <td>83.6</td>\n",
       "      <td>77.2</td>\n",
       "      <td>15.3</td>\n",
       "      <td>12.7</td>\n",
       "    </tr>\n",
       "    <tr>\n",
       "      <th>44</th>\n",
       "      <td>Utah</td>\n",
       "      <td>88.2</td>\n",
       "      <td>93.6</td>\n",
       "      <td>89.4</td>\n",
       "      <td>9.3</td>\n",
       "      <td>9.4</td>\n",
       "    </tr>\n",
       "    <tr>\n",
       "      <th>45</th>\n",
       "      <td>Vermont</td>\n",
       "      <td>38.2</td>\n",
       "      <td>96.9</td>\n",
       "      <td>88.9</td>\n",
       "      <td>9.9</td>\n",
       "      <td>9.3</td>\n",
       "    </tr>\n",
       "    <tr>\n",
       "      <th>46</th>\n",
       "      <td>Virginia</td>\n",
       "      <td>73.0</td>\n",
       "      <td>73.9</td>\n",
       "      <td>87.8</td>\n",
       "      <td>8.7</td>\n",
       "      <td>11.9</td>\n",
       "    </tr>\n",
       "    <tr>\n",
       "      <th>47</th>\n",
       "      <td>Washington</td>\n",
       "      <td>82.0</td>\n",
       "      <td>85.5</td>\n",
       "      <td>89.1</td>\n",
       "      <td>10.8</td>\n",
       "      <td>9.9</td>\n",
       "    </tr>\n",
       "    <tr>\n",
       "      <th>48</th>\n",
       "      <td>West  Virginia</td>\n",
       "      <td>46.1</td>\n",
       "      <td>95.0</td>\n",
       "      <td>78.7</td>\n",
       "      <td>16.0</td>\n",
       "      <td>10.7</td>\n",
       "    </tr>\n",
       "    <tr>\n",
       "      <th>49</th>\n",
       "      <td>Wisconsin</td>\n",
       "      <td>68.3</td>\n",
       "      <td>90.1</td>\n",
       "      <td>88.6</td>\n",
       "      <td>8.6</td>\n",
       "      <td>9.6</td>\n",
       "    </tr>\n",
       "    <tr>\n",
       "      <th>50</th>\n",
       "      <td>Wyoming</td>\n",
       "      <td>65.1</td>\n",
       "      <td>94.7</td>\n",
       "      <td>90.9</td>\n",
       "      <td>9.5</td>\n",
       "      <td>8.7</td>\n",
       "    </tr>\n",
       "  </tbody>\n",
       "</table>\n",
       "</div>"
      ],
      "text/plain": [
       "                    state  metro_res  white  hs_grad  poverty  female_house\n",
       "0                 Alabama       55.4   71.3     79.9     14.6          14.2\n",
       "1                  Alaska       65.6   70.8     90.6      8.3          10.8\n",
       "2                 Arizona       88.2   87.7     83.8     13.3          11.1\n",
       "3                Arkansas       52.5   81.0     80.9     18.0          12.1\n",
       "4              California       94.4   77.5     81.1     12.8          12.6\n",
       "5                Colorado       84.5   90.2     88.7      9.4           9.6\n",
       "6             Connecticut       87.7   85.4     87.5      7.8          12.1\n",
       "7                Delaware       80.1   76.3     88.7      8.1          13.1\n",
       "8   District  of Columbia      100.0   36.2     86.0     16.8          18.9\n",
       "9                 Florida       89.3   80.6     84.7     12.1          12.0\n",
       "10                Georgia       71.6   67.5     85.1     12.1          14.5\n",
       "11                 Hawaii       91.5   25.9     88.5     10.6          12.4\n",
       "12                  Idaho       66.4   95.5     88.2     11.8           8.7\n",
       "13               Illinois       87.8   79.5     85.9     11.2          12.3\n",
       "14                Indiana       70.8   88.9     86.4      8.7          11.1\n",
       "15                   Iowa       61.1   94.9     89.7      8.3           8.6\n",
       "16                 Kansas       71.4   89.3     88.6      9.4           9.3\n",
       "17               Kentucky       55.8   90.3     82.8     13.1          11.8\n",
       "18              Louisiana       72.6   64.2     79.8     17.0          16.6\n",
       "19                  Maine       40.2   97.1     86.6     11.3           9.5\n",
       "20               Maryland       86.1   65.6     87.6      7.3          14.1\n",
       "21          Massachusetts       91.4   87.2     87.1      9.6          11.9\n",
       "22               Michigan       74.7   81.5     87.6     10.3          12.5\n",
       "23              Minnesota       70.9   90.2     91.6      6.5           8.9\n",
       "24            Mississippi       48.8   61.2     81.2     17.6          17.3\n",
       "25               Missouri       69.4   85.3     88.3      9.6          11.6\n",
       "26                Montana       54.1   90.9     90.1     13.7           8.9\n",
       "27               Nebraska       69.8   92.1     90.8      9.5           9.1\n",
       "28                 Nevada       91.5   84.1     85.6      8.3          11.1\n",
       "29         New  Hampshire       59.3   96.3     92.1      5.6           9.1\n",
       "30             New Jersey       94.4   77.3     86.2      7.8          12.6\n",
       "31             New Mexico       75.0   84.9     81.7     17.8          13.2\n",
       "32               New York       87.5   73.6     84.2     14.0          14.7\n",
       "33        North  Carolina       60.2   74.1     81.4     13.1          12.5\n",
       "34           North Dakota       55.9   92.5     89.7     11.9           7.8\n",
       "35                   Ohio       77.4   85.4     87.2     10.1          12.1\n",
       "36               Oklahoma       65.3   78.4     85.7     14.7          11.4\n",
       "37                 Oregon       78.7   90.8     86.9     11.2           9.8\n",
       "38           Pennsylvania       77.1   86.4     86.0      9.2          11.6\n",
       "39           Rhode Island       90.9   89.2     81.0     10.3          12.9\n",
       "40        South  Carolina       60.5   67.7     80.8     13.5          14.8\n",
       "41           South Dakota       51.9   88.8     88.7     10.2           9.0\n",
       "42              Tennessee       63.6   80.8     81.0     14.2          12.9\n",
       "43                  Texas       82.5   83.6     77.2     15.3          12.7\n",
       "44                   Utah       88.2   93.6     89.4      9.3           9.4\n",
       "45                Vermont       38.2   96.9     88.9      9.9           9.3\n",
       "46               Virginia       73.0   73.9     87.8      8.7          11.9\n",
       "47             Washington       82.0   85.5     89.1     10.8           9.9\n",
       "48         West  Virginia       46.1   95.0     78.7     16.0          10.7\n",
       "49              Wisconsin       68.3   90.1     88.6      8.6           9.6\n",
       "50                Wyoming       65.1   94.7     90.9      9.5           8.7"
      ]
     },
     "execution_count": 3,
     "metadata": {},
     "output_type": "execute_result"
    }
   ],
   "source": [
    "df"
   ]
  },
  {
   "cell_type": "code",
   "execution_count": 4,
   "metadata": {},
   "outputs": [
    {
     "data": {
      "text/plain": [
       "<matplotlib.axes._subplots.AxesSubplot at 0x7f45508fdc50>"
      ]
     },
     "execution_count": 4,
     "metadata": {},
     "output_type": "execute_result"
    },
    {
     "data": {
      "image/png": "[encoded data removed]",
      "text/plain": [
       "<Figure size 432x288 with 1 Axes>"
      ]
     },
     "metadata": {
      "needs_background": "light"
     },
     "output_type": "display_data"
    }
   ],
   "source": [
    "sns.scatterplot(x='hs_grad', y='poverty', data=df)"
   ]
  },
  {
   "cell_type": "code",
   "execution_count": 5,
   "metadata": {},
   "outputs": [
    {
     "name": "stdout",
     "output_type": "stream",
     "text": [
      "count    51.000000\n",
      "mean     11.349020\n",
      "std       3.099185\n",
      "min       5.600000\n",
      "25%       9.250000\n",
      "50%      10.600000\n",
      "75%      13.400000\n",
      "max      18.000000\n",
      "Name: poverty, dtype: float64\n"
     ]
    }
   ],
   "source": [
    "print(df.poverty.describe())"
   ]
  },
  {
   "cell_type": "code",
   "execution_count": 6,
   "metadata": {},
   "outputs": [
    {
     "name": "stdout",
     "output_type": "stream",
     "text": [
      "count    51.000000\n",
      "mean     86.011765\n",
      "std       3.725998\n",
      "min      77.200000\n",
      "25%      83.300000\n",
      "50%      86.900000\n",
      "75%      88.700000\n",
      "max      92.100000\n",
      "Name: hs_grad, dtype: float64\n"
     ]
    }
   ],
   "source": [
    "print(df.hs_grad.describe())"
   ]
  },
  {
   "cell_type": "code",
   "execution_count": 7,
   "metadata": {},
   "outputs": [
    {
     "name": "stdout",
     "output_type": "stream",
     "text": [
      "intercept:\t64.78096577010209\n",
      "slope:\t\t-0.6212167177940106\n",
      "rvalue:\t\t-0.7468582531582505\n",
      "pvalue:\t\t3.10882981031841e-10\n",
      "stderr:\t\t0.0790164710017928\n",
      "\n"
     ]
    }
   ],
   "source": [
    "# slope, intercept, r_value, p_value, std_err = stats.linregress(x,y)\n",
    "result = stats.linregress(df.hs_grad, df.poverty)\n",
    "print(f\"intercept:\\t{result.intercept}\\n\\\n",
    "slope:\\t\\t{result.slope}\\n\\\n",
    "rvalue:\\t\\t{result.rvalue}\\n\\\n",
    "pvalue:\\t\\t{result.pvalue}\\n\\\n",
    "stderr:\\t\\t{result.stderr}\\n\")"
   ]
  },
  {
   "cell_type": "code",
   "execution_count": 8,
   "metadata": {},
   "outputs": [],
   "source": [
    "X = np.array(df.hs_grad).reshape(-1, 1)\n",
    "y = df.poverty.values"
   ]
  },
  {
   "cell_type": "code",
   "execution_count": 9,
   "metadata": {},
   "outputs": [],
   "source": [
    "model = LinearRegression()"
   ]
  },
  {
   "cell_type": "code",
   "execution_count": 10,
   "metadata": {},
   "outputs": [],
   "source": [
    "reg = model.fit(X, y)"
   ]
  },
  {
   "cell_type": "code",
   "execution_count": 11,
   "metadata": {},
   "outputs": [
    {
     "data": {
      "text/plain": [
       "0.5577972503105937"
      ]
     },
     "execution_count": 11,
     "metadata": {},
     "output_type": "execute_result"
    }
   ],
   "source": [
    "reg.score(X, y)"
   ]
  },
  {
   "cell_type": "code",
   "execution_count": 12,
   "metadata": {},
   "outputs": [
    {
     "name": "stdout",
     "output_type": "stream",
     "text": [
      "Intercept:\t64.7809657701021\n",
      "Slope:\t\t[-0.62121672]\n"
     ]
    }
   ],
   "source": [
    "print(f\"Intercept:\\t{reg.intercept_}\\nSlope:\\t\\t{reg.coef_}\")"
   ]
  },
  {
   "cell_type": "code",
   "execution_count": 13,
   "metadata": {},
   "outputs": [
    {
     "name": "stdout",
     "output_type": "stream",
     "text": [
      "N: 51\n",
      "p: 2\n"
     ]
    }
   ],
   "source": [
    "N = len(X)\n",
    "p = len(X[0]) + 1 \n",
    "print(f\"N: {N}\\np: {p}\")\n",
    "\n",
    "X_with_intercept = pd.DataFrame(df[df.columns[3]])\n",
    "X_with_intercept[1] = X_with_intercept\n",
    "X_with_intercept[X_with_intercept.columns[0]] = 1\n",
    "X_with_intercept = X_with_intercept.values"
   ]
  },
  {
   "cell_type": "code",
   "execution_count": 14,
   "metadata": {},
   "outputs": [
    {
     "data": {
      "text/plain": [
       "array([[ 1. , 79.9],\n",
       "       [ 1. , 90.6],\n",
       "       [ 1. , 83.8],\n",
       "       [ 1. , 80.9],\n",
       "       [ 1. , 81.1],\n",
       "       [ 1. , 88.7],\n",
       "       [ 1. , 87.5],\n",
       "       [ 1. , 88.7],\n",
       "       [ 1. , 86. ],\n",
       "       [ 1. , 84.7],\n",
       "       [ 1. , 85.1],\n",
       "       [ 1. , 88.5],\n",
       "       [ 1. , 88.2],\n",
       "       [ 1. , 85.9],\n",
       "       [ 1. , 86.4],\n",
       "       [ 1. , 89.7],\n",
       "       [ 1. , 88.6],\n",
       "       [ 1. , 82.8],\n",
       "       [ 1. , 79.8],\n",
       "       [ 1. , 86.6],\n",
       "       [ 1. , 87.6],\n",
       "       [ 1. , 87.1],\n",
       "       [ 1. , 87.6],\n",
       "       [ 1. , 91.6],\n",
       "       [ 1. , 81.2],\n",
       "       [ 1. , 88.3],\n",
       "       [ 1. , 90.1],\n",
       "       [ 1. , 90.8],\n",
       "       [ 1. , 85.6],\n",
       "       [ 1. , 92.1],\n",
       "       [ 1. , 86.2],\n",
       "       [ 1. , 81.7],\n",
       "       [ 1. , 84.2],\n",
       "       [ 1. , 81.4],\n",
       "       [ 1. , 89.7],\n",
       "       [ 1. , 87.2],\n",
       "       [ 1. , 85.7],\n",
       "       [ 1. , 86.9],\n",
       "       [ 1. , 86. ],\n",
       "       [ 1. , 81. ],\n",
       "       [ 1. , 80.8],\n",
       "       [ 1. , 88.7],\n",
       "       [ 1. , 81. ],\n",
       "       [ 1. , 77.2],\n",
       "       [ 1. , 89.4],\n",
       "       [ 1. , 88.9],\n",
       "       [ 1. , 87.8],\n",
       "       [ 1. , 89.1],\n",
       "       [ 1. , 78.7],\n",
       "       [ 1. , 88.6],\n",
       "       [ 1. , 90.9]])"
      ]
     },
     "execution_count": 14,
     "metadata": {},
     "output_type": "execute_result"
    }
   ],
   "source": [
    "X_with_intercept"
   ]
  },
  {
   "cell_type": "code",
   "execution_count": 15,
   "metadata": {},
   "outputs": [
    {
     "name": "stdout",
     "output_type": "stream",
     "text": [
      "                            OLS Regression Results                            \n",
      "==============================================================================\n",
      "Dep. Variable:                      y   R-squared:                       0.558\n",
      "Model:                            OLS   Adj. R-squared:                  0.549\n",
      "Method:                 Least Squares   F-statistic:                     61.81\n",
      "Date:                Sat, 23 Nov 2019   Prob (F-statistic):           3.11e-10\n",
      "Time:                        22:28:28   Log-Likelihood:                -108.74\n",
      "No. Observations:                  51   AIC:                             221.5\n",
      "Df Residuals:                      49   BIC:                             225.3\n",
      "Df Model:                           1                                         \n",
      "Covariance Type:            nonrobust                                         \n",
      "==============================================================================\n",
      "                 coef    std err          t      P>|t|      [0.025      0.975]\n",
      "------------------------------------------------------------------------------\n",
      "const         64.7810      6.803      9.523      0.000      51.111      78.451\n",
      "x1            -0.6212      0.079     -7.862      0.000      -0.780      -0.462\n",
      "==============================================================================\n",
      "Omnibus:                        3.534   Durbin-Watson:                   1.977\n",
      "Prob(Omnibus):                  0.171   Jarque-Bera (JB):                2.653\n",
      "Skew:                           0.540   Prob(JB):                        0.265\n",
      "Kurtosis:                       3.289   Cond. No.                     2.01e+03\n",
      "==============================================================================\n",
      "\n",
      "Warnings:\n",
      "[1] Standard Errors assume that the covariance matrix of the errors is correctly specified.\n",
      "[2] The condition number is large, 2.01e+03. This might indicate that there are\n",
      "strong multicollinearity or other numerical problems.\n"
     ]
    }
   ],
   "source": [
    "import statsmodels.api as sm\n",
    "ols = sm.OLS(y, X_with_intercept)\n",
    "ols_result = ols.fit()\n",
    "print(ols_result.summary())"
   ]
  },
  {
   "cell_type": "code",
   "execution_count": 16,
   "metadata": {},
   "outputs": [
    {
     "data": {
      "text/plain": [
       "<matplotlib.axes._subplots.AxesSubplot at 0x7f454d347b50>"
      ]
     },
     "execution_count": 16,
     "metadata": {},
     "output_type": "execute_result"
    },
    {
     "data": {
      "image/png": "[encoded data removed]",
      "text/plain": [
       "<Figure size 432x288 with 1 Axes>"
      ]
     },
     "metadata": {
      "needs_background": "light"
     },
     "output_type": "display_data"
    }
   ],
   "source": [
    "sns.residplot(df.hs_grad, y)"
   ]
  },
  {
   "cell_type": "code",
   "execution_count": 17,
   "metadata": {},
   "outputs": [
    {
     "data": {
      "text/plain": [
       "<matplotlib.axes._subplots.AxesSubplot at 0x7f454cc1bf10>"
      ]
     },
     "execution_count": 17,
     "metadata": {},
     "output_type": "execute_result"
    },
    {
     "data": {
      "image/png": "[encoded data removed]",
      "text/plain": [
       "<Figure size 432x288 with 1 Axes>"
      ]
     },
     "metadata": {
      "needs_background": "light"
     },
     "output_type": "display_data"
    }
   ],
   "source": [
    "sns.regplot(x='hs_grad', y='poverty', data=df)"
   ]
  },
  {
   "cell_type": "code",
   "execution_count": 18,
   "metadata": {},
   "outputs": [
    {
     "data": {
      "text/plain": [
       "array([15.14575002,  8.49873114, 12.72300482, 14.5245333 , 14.40028996,\n",
       "        9.6790429 , 10.42450296,  9.6790429 , 11.35632804, 12.16390977,\n",
       "       11.91542309,  9.80328625,  9.98965126, 11.41844971, 11.10784135,\n",
       "        9.05782618,  9.74116457, 13.34422154, 15.20787169, 10.98359801,\n",
       "       10.36238129, 10.67298965, 10.36238129,  7.87751442, 14.33816829,\n",
       "        9.92752959,  8.8093395 ,  8.37448779, 11.60481473,  7.56690606,\n",
       "       11.2320847 , 14.02755993, 12.47451813, 14.21392494,  9.05782618,\n",
       "       10.61086798, 11.54269306, 10.79723299, 11.35632804, 14.46241163,\n",
       "       14.58665497,  9.6790429 , 14.46241163, 16.82303516,  9.2441912 ,\n",
       "        9.55479956, 10.23813795,  9.43055621, 15.89121008,  9.74116457,\n",
       "        8.31236612])"
      ]
     },
     "execution_count": 18,
     "metadata": {},
     "output_type": "execute_result"
    }
   ],
   "source": [
    "predicted = ols_result.predict(X_with_intercept)\n",
    "predicted"
   ]
  },
  {
   "cell_type": "code",
   "execution_count": null,
   "metadata": {},
   "outputs": [],
   "source": []
  },
  {
   "cell_type": "code",
   "execution_count": 22,
   "metadata": {},
   "outputs": [
    {
     "data": {
      "image/png": "[encoded data removed]",
      "text/plain": [
       "<Figure size 432x288 with 1 Axes>"
      ]
     },
     "metadata": {
      "needs_background": "light"
     },
     "output_type": "display_data"
    }
   ],
   "source": [
    "fig, ax = plt.subplots()\n",
    "ax.plot(df.hs_grad, df.poverty, 'o', label=\"Data\")\n",
    "ax.plot(df.hs_grad, predicted, label=\"Predicted\")\n",
    "ax.legend(loc=\"best\");"
   ]
  },
  {
   "cell_type": "code",
   "execution_count": 34,
   "metadata": {},
   "outputs": [
    {
     "data": {
      "image/png": "[encoded data removed]",
      "text/plain": [
       "<Figure size 432x288 with 1 Axes>"
      ]
     },
     "metadata": {
      "needs_background": "light"
     },
     "output_type": "display_data"
    }
   ],
   "source": [
    "diff = df.poverty-predicted\n",
    "fig = sm.qqplot(diff, line='r',)"
   ]
  },
  {
   "cell_type": "code",
   "execution_count": 37,
   "metadata": {},
   "outputs": [
    {
     "data": {
      "text/plain": [
       "26.340000000000003"
      ]
     },
     "execution_count": 37,
     "metadata": {},
     "output_type": "execute_result"
    }
   ],
   "source": [
    "64.78-0.62*62.0"
   ]
  },
  {
   "cell_type": "code",
   "execution_count": null,
   "metadata": {},
   "outputs": [],
   "source": []
  },
  {
   "cell_type": "code",
   "execution_count": null,
   "metadata": {},
   "outputs": [],
   "source": []
  },
  {
   "cell_type": "code",
   "execution_count": null,
   "metadata": {},
   "outputs": [],
   "source": []
  },
  {
   "cell_type": "code",
   "execution_count": null,
   "metadata": {},
   "outputs": [],
   "source": []
  },
  {
   "cell_type": "code",
   "execution_count": null,
   "metadata": {},
   "outputs": [],
   "source": []
  },
  {
   "cell_type": "code",
   "execution_count": null,
   "metadata": {},
   "outputs": [],
   "source": []
  },
  {
   "cell_type": "code",
   "execution_count": null,
   "metadata": {},
   "outputs": [],
   "source": []
  },
  {
   "cell_type": "code",
   "execution_count": null,
   "metadata": {},
   "outputs": [],
   "source": []
  },
  {
   "cell_type": "code",
   "execution_count": null,
   "metadata": {},
   "outputs": [],
   "source": []
  }
 ],
 "metadata": {
  "kernelspec": {
   "display_name": "Python 3",
   "language": "python",
   "name": "python3"
  },
  "language_info": {
   "codemirror_mode": {
    "name": "ipython",
    "version": 3
   },
   "file_extension": ".py",
   "mimetype": "text/x-python",
   "name": "python",
   "nbconvert_exporter": "python",
   "pygments_lexer": "ipython3",
   "version": "3.7.5rc1"
  }
 },
 "nbformat": 4,
 "nbformat_minor": 2
}
